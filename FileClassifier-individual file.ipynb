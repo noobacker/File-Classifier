{
 "cells": [
  {
   "cell_type": "code",
   "execution_count": 39,
   "id": "bbbdc5a9-ed4c-40fd-b7b6-3c4084589cb2",
   "metadata": {},
   "outputs": [
    {
     "name": "stdin",
     "output_type": "stream",
     "text": [
      "Enter the file path of your document:  /Users/harshalpimpalshende/Downloads/Screenshot 2023-03-25 at 2.19.46 AM.png\n"
     ]
    },
    {
     "name": "stdout",
     "output_type": "stream",
     "text": [
      "The submitted file is classified as: Image\n"
     ]
    }
   ],
   "source": [
    "# Sample file extensions and their corresponding categories\n",
    "extension_to_category = {\n",
    "    \"Presentation\": {\".pptx\", \".ppt\"},\n",
    "    \"Video\": {\".mkv\", \".mp4\", \".3gp\"},\n",
    "    \"Audio\": {\".mp3\", \".m4a\"},\n",
    "    \"Text\": {\".txt\", \".doc\", \".docx\"},\n",
    "    \"PDF\": {\".pdf\"},\n",
    "    \"Python Notebook File\": {\".ipynb\"},\n",
    "    \"Excel Spreadsheet\": {\".xlsx\", \".xls\"},\n",
    "    \"Image\": {\".jpg\", \".jpeg\", \".png\", \".gif\"},\n",
    "    \"Compressed File\": {\".zip\", \".rar\", \".7z\"},\n",
    "    \"HTML File\": {\".html\", \".htm\"},\n",
    "    \"CSV File\": {\".csv\"},\n",
    "    \"JSON File\": {\".json\"},\n",
    "    \"XML File\": {\".xml\"},\n",
    "    \"Log File\": {\".log\"},\n",
    "    \"Macro-Enabled Presentation\": {\".pptm\"},\n",
    "    \"AVI Video\": {\".avi\"},\n",
    "    \"WAV Audio\": {\".wav\"},\n",
    "    \"Executable File\": {\".exe\"},\n",
    "    \"Tar Archive\": {\".tar\", \".gz\"},\n",
    "    \"Tar Gzipped Archive\": {\".tgz\"},\n",
    "    \"PHP Script\": {\".php\"},\n",
    "    \"Python Script\": {\".py\"},\n",
    "    \"Java Source Code\": {\".java\"},\n",
    "    \"C++ Source Code\": {\".cpp\"},\n",
    "    \"C/C++ Header File\": {\".h\", \".hpp\"},\n",
    "    \"Shell Script\": {\".sh\"},\n",
    "    \"Batch Script\": {\".bat\"},\n",
    "    \"Dynamic Link Library\": {\".dll\"},\n",
    "    \"Backup File\": {\".bak\"},\n",
    "    # Add more extensions and categories as needed\n",
    "}\n",
    "#Noobacker :- https://github.com/noobacker\n",
    "\n",
    "# Function to classify a file based on its extension\n",
    "def classify_document(file_path):\n",
    "    # Extract the file extension and convert to lowercase\n",
    "    file_extension = \".\" + file_path.split(\".\")[-1].strip().lower()\n",
    "\n",
    "    # Iterate through the extension_to_category dictionary to find the category\n",
    "    for category, extensions in extension_to_category.items():\n",
    "        if file_extension in extensions:\n",
    "            return category\n",
    "\n",
    "    return \"Other\"  # Default to \"Other\" if not found\n",
    "\n",
    "# Function to classify a user-submitted file path\n",
    "def classify_user_file(user_file_path):\n",
    "    category = classify_document(user_file_path)\n",
    "    return f\"The submitted file is classified as: {category}\"\n",
    "\n",
    "# Example of using the classify_user_file function with a file path\n",
    "user_file_path = input(\"Enter the file path of your document: \").strip()\n",
    "result = classify_user_file(user_file_path)\n",
    "print(result)\n"
   ]
  },
  {
   "cell_type": "code",
   "execution_count": null,
   "id": "aef74d90-b113-410c-95b7-27974b209613",
   "metadata": {},
   "outputs": [],
   "source": []
  },
  {
   "cell_type": "code",
   "execution_count": null,
   "id": "77e0099b-1064-4cca-b9ce-4f374a98485e",
   "metadata": {},
   "outputs": [],
   "source": []
  },
  {
   "cell_type": "code",
   "execution_count": null,
   "id": "49799ebf-5c50-44d3-b76c-30b6795429f6",
   "metadata": {},
   "outputs": [],
   "source": []
  }
 ],
 "metadata": {
  "kernelspec": {
   "display_name": "Python 3 (ipykernel)",
   "language": "python",
   "name": "python3"
  },
  "language_info": {
   "codemirror_mode": {
    "name": "ipython",
    "version": 3
   },
   "file_extension": ".py",
   "mimetype": "text/x-python",
   "name": "python",
   "nbconvert_exporter": "python",
   "pygments_lexer": "ipython3",
   "version": "3.10.12"
  }
 },
 "nbformat": 4,
 "nbformat_minor": 5
}
